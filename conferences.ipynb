{
  "nbformat": 4,
  "nbformat_minor": 0,
  "metadata": {
    "kernelspec": {
      "display_name": "Python 3",
      "language": "python",
      "name": "python3"
    },
    "language_info": {
      "codemirror_mode": {
        "name": "ipython",
        "version": 3
      },
      "file_extension": ".py",
      "mimetype": "text/x-python",
      "name": "python",
      "nbconvert_exporter": "python",
      "pygments_lexer": "ipython3",
      "version": "3.6.8"
    },
    "colab": {
      "name": "conferences.ipynb",
      "provenance": []
    }
  },
  "cells": [
    {
      "cell_type": "code",
      "metadata": {
        "id": "5vLsAwRne6eD"
      },
      "source": [
        "#begin by importing the Requests module\n",
        "import requests "
      ],
      "execution_count": null,
      "outputs": []
    },
    {
      "cell_type": "code",
      "metadata": {
        "id": "SqZZhgkne6eG"
      },
      "source": [
        "#making a request from url\n",
        "r=requests.get(\"https://o136z8hk40.execute-api.us-east-1.amazonaws.com/dev/get-list-of-conferences\")"
      ],
      "execution_count": null,
      "outputs": []
    },
    {
      "cell_type": "code",
      "metadata": {
        "id": "XCSwjZRpe6eG"
      },
      "source": [
        "#reading content of server's response\n",
        "content=r.json()\n",
        "print(content)"
      ],
      "execution_count": null,
      "outputs": []
    },
    {
      "cell_type": "code",
      "metadata": {
        "id": "_-oI_g7pe6eH"
      },
      "source": [
        "#getting keys in the API\n",
        "for key,values in content.items():\n",
        "    print(key)"
      ],
      "execution_count": null,
      "outputs": []
    },
    {
      "cell_type": "code",
      "metadata": {
        "id": "PIi8fROte6eH"
      },
      "source": [
        "#getting values of keys\n",
        "print(content['paid'])"
      ],
      "execution_count": null,
      "outputs": []
    },
    {
      "cell_type": "markdown",
      "metadata": {
        "id": "WhuvpMQbe6eI"
      },
      "source": [
        "#Conference Details[Paid]"
      ]
    },
    {
      "cell_type": "code",
      "metadata": {
        "id": "qp814TOhe6eI"
      },
      "source": [
        "paidList=[]\n",
        "paidInfo=content['paid']\n",
        "for i in paidInfo:\n",
        "    entry=[i['confName'],\n",
        "            i['confStartDate'],\n",
        "            None if i['city']==\"\" else i['city'],\n",
        "            None if i['state']==\"\" else i['state'],\n",
        "            None if i['country']==\"\" else i['country'],\n",
        "            i['entryType'],\n",
        "            i['confUrl']]\n",
        "    paidList.append(entry)"
      ],
      "execution_count": null,
      "outputs": []
    },
    {
      "cell_type": "code",
      "metadata": {
        "id": "vNJ3aZ8ae6eI"
      },
      "source": [
        "srNo=1\n",
        "for i in paidList:\n",
        "    print(srNo,i)\n",
        "    srNo+=1"
      ],
      "execution_count": null,
      "outputs": []
    },
    {
      "cell_type": "markdown",
      "metadata": {
        "id": "0fPEdJ4Ae6eI"
      },
      "source": [
        "Finding and Printing Exact Duplicates"
      ]
    },
    {
      "cell_type": "code",
      "metadata": {
        "id": "OmjaZUjqe6eI"
      },
      "source": [
        "tempList=[]\n",
        "duplicatesList=[]\n",
        "for i in paidList:\n",
        "    if i not in tempList:\n",
        "        tempList.append(i)\n",
        "    else:\n",
        "        duplicatesList.append(i)"
      ],
      "execution_count": null,
      "outputs": []
    },
    {
      "cell_type": "code",
      "metadata": {
        "id": "kEo4sXmze6eI"
      },
      "source": [
        "srNo=1\n",
        "for i in duplicatesList:\n",
        "    print(srNo,i)\n",
        "    srNo+=1"
      ],
      "execution_count": null,
      "outputs": []
    },
    {
      "cell_type": "markdown",
      "metadata": {
        "id": "N9v7w1Dze6eI"
      },
      "source": [
        "Finding and Printing Symantic Duplicates"
      ]
    },
    {
      "cell_type": "code",
      "metadata": {
        "colab": {
          "base_uri": "https://localhost:8080/"
        },
        "id": "RU-5ofw10v_h",
        "outputId": "4e65645a-0647-4977-f78f-8204e0a52abb"
      },
      "source": [
        "!pip install fuzzywuzzy\n",
        "!pip install python-Levenshtein"
      ],
      "execution_count": 164,
      "outputs": [
        {
          "output_type": "stream",
          "text": [
            "Requirement already satisfied: fuzzywuzzy in /usr/local/lib/python3.6/dist-packages (0.18.0)\n",
            "Requirement already satisfied: python-Levenshtein in /usr/local/lib/python3.6/dist-packages (0.12.0)\n",
            "Requirement already satisfied: setuptools in /usr/local/lib/python3.6/dist-packages (from python-Levenshtein) (50.3.2)\n"
          ],
          "name": "stdout"
        }
      ]
    },
    {
      "cell_type": "code",
      "metadata": {
        "colab": {
          "base_uri": "https://localhost:8080/"
        },
        "id": "vGarLP_dzVCo",
        "outputId": "80a72cf8-aea1-4bf8-8405-3b85bff9909b"
      },
      "source": [
        "from fuzzywuzzy import fuzz\n",
        "from fuzzywuzzy import process\n",
        "\n",
        "for infoList1 in paidInfo:\n",
        "  conference1=infoList1['confName']\n",
        "  for infoList2 in paidInfo:\n",
        "    conference2=infoList2['confName']\n",
        "    fuzzymatch=fuzz.ratio(conference1,conference2)\n",
        "    if fuzzymatch>=71 and fuzzymatch!=100:\n",
        "      print(\"Semantic\", (conference1,conference2))\n",
        "      "
      ],
      "execution_count": 165,
      "outputs": [
        {
          "output_type": "stream",
          "text": [
            "Semantic ('NDC Security 2020', 'NDC Porto 2020')\n",
            "Semantic ('Machine Learning Developers', 'Machine Learning Conference')\n",
            "Semantic ('NDC London 2020 ', 'DevOpsCon London 2020')\n",
            "Semantic ('NDC London 2020 ', 'NDC Porto 2020')\n",
            "Semantic ('Alexa Community Day Bengaluru 2020', 'Alexa Community Day')\n",
            "Semantic ('DevOpsCon London 2020', 'NDC London 2020 ')\n",
            "Semantic ('Software Architecture Conference', 'Serverless Architecture Conference')\n",
            "Semantic ('Software Architecture Conference', 'Security Architecture Conference')\n",
            "Semantic ('Scale Summit', 'Car Summit')\n",
            "Semantic ('DevOn Summit', 'DevOps India Summit')\n",
            "Semantic ('NDC Porto 2020', 'NDC Security 2020')\n",
            "Semantic ('NDC Porto 2020', 'NDC London 2020 ')\n",
            "Semantic ('React Day', 'React Day Norway')\n",
            "Semantic ('AWS Community Day', 'Alexa Community Day')\n",
            "Semantic ('ChefConf 2020', 'DSConf 2020')\n",
            "Semantic ('Machine Learning Conference', 'Machine Learning Developers')\n",
            "Semantic ('Machine Learning Conference', 'Machine Learning Developers')\n",
            "Semantic ('DevOps Enterprise Summit', 'DevOps India Summit')\n",
            "Semantic ('DevOps Enterprise Summit', 'DevOps India Summit')\n",
            "Semantic ('DevOps India Summit', 'DevOn Summit')\n",
            "Semantic ('DevOps India Summit', 'DevOps Enterprise Summit')\n",
            "Semantic ('DevOps India Summit', 'DevOps Enterprise Summit')\n",
            "Semantic ('Machine Learning Developers', 'Machine Learning Conference')\n",
            "Semantic ('Car Summit', 'Scale Summit')\n",
            "Semantic ('Alexa Community Day', 'Alexa Community Day Bengaluru 2020')\n",
            "Semantic ('Alexa Community Day', 'AWS Community Day')\n",
            "Semantic ('Serverless Architecture Conference', 'Software Architecture Conference')\n",
            "Semantic ('Serverless Architecture Conference', 'Security Architecture Conference')\n",
            "Semantic ('DSConf 2020', 'ChefConf 2020')\n",
            "Semantic ('Security Architecture Conference', 'Software Architecture Conference')\n",
            "Semantic ('Security Architecture Conference', 'Serverless Architecture Conference')\n",
            "Semantic ('HashiConf US', 'HashiConf EU')\n",
            "Semantic ('HashiConf EU', 'HashiConf US')\n",
            "Semantic ('React Day Norway', 'React Day')\n"
          ],
          "name": "stdout"
        }
      ]
    },
    {
      "cell_type": "markdown",
      "metadata": {
        "id": "w8OeBQxc9Qoe"
      },
      "source": [
        "# END"
      ]
    }
  ]
}